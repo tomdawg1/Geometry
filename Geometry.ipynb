{
  "nbformat": 4,
  "nbformat_minor": 0,
  "metadata": {
    "colab": {
      "provenance": [],
      "authorship_tag": "ABX9TyOgUkt85b5HANKTXDNjMcBc",
      "include_colab_link": true
    },
    "kernelspec": {
      "name": "python3",
      "display_name": "Python 3"
    },
    "language_info": {
      "name": "python"
    }
  },
  "cells": [
    {
      "cell_type": "markdown",
      "metadata": {
        "id": "view-in-github",
        "colab_type": "text"
      },
      "source": [
        "<a href=\"https://colab.research.google.com/github/tomdawg1/Geometry/blob/main/Geometry.ipynb\" target=\"_parent\"><img src=\"https://colab.research.google.com/assets/colab-badge.svg\" alt=\"Open In Colab\"/></a>"
      ]
    },
    {
      "cell_type": "code",
      "execution_count": null,
      "metadata": {
        "id": "es-AkPhG7Y0a"
      },
      "outputs": [],
      "source": [
        "import math"
      ]
    },
    {
      "cell_type": "code",
      "source": [
        "x_one=int(input(\"Enter x1 value: \"))\n",
        "y_one=int(input(\"Enter y1 value: \"))\n",
        "x_two=int(input(\"Enter x2 value: \"))\n",
        "y_two=int(input(\"Enter y2 value: \"))\n",
        "x_three=int(input(\"Enter x3 value from second line segment: \"))\n",
        "y_three=int(input(\"Enter y3 value from second line segment: \"))"
      ],
      "metadata": {
        "id": "ktjRoQ037m3g"
      },
      "execution_count": null,
      "outputs": []
    },
    {
      "cell_type": "code",
      "source": [
        "slope=(y_two - y_one)/(x_two - x_one)\n",
        "b=-abs((slope*-abs(int(input(\"Enter x value to find y-intercept: \")))))+int(input(\"Enter y value to find y-intercept: \"))"
      ],
      "metadata": {
        "id": "CvfUuEK878VZ"
      },
      "execution_count": null,
      "outputs": []
    },
    {
      "cell_type": "code",
      "source": [
        "midpoint_x=(x_one+x_two)/2\n",
        "midpoint_y=(y_one+y_two)/2\n",
        "midpoint=midpoint_x, midpoint_y"
      ],
      "metadata": {
        "id": "cyFFSTxQ8ExW"
      },
      "execution_count": null,
      "outputs": []
    },
    {
      "cell_type": "code",
      "source": [
        "parallel_slope=slope\n",
        "perpendicular_slope=-abs(1/slope)\n",
        "distance=math.sqrt((x_two-x_one)**2 + (y_two-y_one)**2)\n",
        "point_a=(x_one, y_one)\n",
        "point_b=(x_two, y_two)\n",
        "perpendicular_b=perpendicular_slope*-abs(x_three)+y_three\n",
        "slope_intercept=str(slope)+\"x\"+\" + \"+str(b)\n",
        "point_slope=\"y+\"+str(y_one)+\"=\"+str(slope)+\"(x-\"+str(x_one)+\")\"\n",
        "perpendicular_slope_intercept=str(perpendicular_slope)+\"x\"+\" + \"+str(perpendicular_b)\n",
        "parallel_slope_intercept=str(parallel_slope)+\"x\"+\" + \"+str(perpendicular_b)\n",
        "parallel_point_slope=\"y+\"+str(y_three)+\"=\"+str(parallel_slope)+\"(x-\"+str(x_three)+\")\"\n",
        "perpendicular_point_slope=\"y+\"+str(y_three)+\"=\"+str(perpendicular_slope)+\"(x-\"+str(x_three)+\")\""
      ],
      "metadata": {
        "id": "k72q2ljG8NwC"
      },
      "execution_count": null,
      "outputs": []
    },
    {
      "cell_type": "code",
      "source": [
        "slope_intercept"
      ],
      "metadata": {
        "id": "_wSbc5bI8WtL"
      },
      "execution_count": null,
      "outputs": []
    },
    {
      "cell_type": "code",
      "source": [
        "perpendicular_slope_intercept"
      ],
      "metadata": {
        "id": "D5I2em6C8c-D"
      },
      "execution_count": null,
      "outputs": []
    },
    {
      "cell_type": "code",
      "source": [
        "x=int(input(\"Enter x value for Isometry: \"))\n",
        "y=int(input(\"Enter y value for Isometry: \"))\n",
        "rotate_ninety=(-abs(y), x)\n",
        "rotate_one_eighty=(-abs(x), -abs(y))\n",
        "rotate_two_seventy=(y, -abs(x))\n",
        "reflect_x=(x, -abs(y))\n",
        "reflect_y=(-abs(x), y)\n",
        "reflect_yx=(-abs(x), -abs(y))\n",
        "reflect_ynx=(-abs(y), -abs(x))\n",
        "translate_x=5\n",
        "translate_y=7\n",
        "translation=(x+translate_x, y+translate_y)\n",
        "dilate_value=5\n",
        "x_dilation=x*5\n",
        "y_dilation=y*5\n",
        "dilation=(x_dilation, y_dilation)"
      ],
      "metadata": {
        "id": "lqLmCLu78Q_g"
      },
      "execution_count": null,
      "outputs": []
    },
    {
      "cell_type": "code",
      "source": [
        "angle_measure=math.degrees(int(input(\"Enter angle measure here: \")))\n",
        "vertical=angle_measure\n",
        "alt_int=angle_measure\n",
        "alt_ext=angle_measure\n",
        "cons_int=180 - angle_measure\n",
        "cons_ext=180 - angle_measure\n",
        "comp_angles=90 - angle_measure\n",
        "supp_angles=180 - angle_measure\n",
        "corr=angle_measure"
      ],
      "metadata": {
        "id": "40ftTXa38bFi"
      },
      "execution_count": null,
      "outputs": []
    }
  ]
}